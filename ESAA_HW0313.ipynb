{
  "nbformat": 4,
  "nbformat_minor": 0,
  "metadata": {
    "colab": {
      "provenance": [],
      "authorship_tag": "ABX9TyOcnzYj3XWMeIZXJpcnKVle",
      "include_colab_link": true
    },
    "kernelspec": {
      "name": "python3",
      "display_name": "Python 3"
    },
    "language_info": {
      "name": "python"
    }
  },
  "cells": [
    {
      "cell_type": "markdown",
      "metadata": {
        "id": "view-in-github",
        "colab_type": "text"
      },
      "source": [
        "<a href=\"https://colab.research.google.com/github/hseyeon1006/ESAA_YB/blob/main/ESAA_HW0313.ipynb\" target=\"_parent\"><img src=\"https://colab.research.google.com/assets/colab-badge.svg\" alt=\"Open In Colab\"/></a>"
      ]
    },
    {
      "cell_type": "markdown",
      "source": [
        "## Chapter 01. 파이썬 기반의 머신러닝과 생태계 이해"
      ],
      "metadata": {
        "id": "-At3Be5YI4hU"
      }
    },
    {
      "cell_type": "markdown",
      "source": [
        "### 1. 머신러닝의 개념"
      ],
      "metadata": {
        "id": "y8QZp0tGJqTb"
      }
    },
    {
      "cell_type": "markdown",
      "source": [
        "머신러닝의 분류\n",
        "\n",
        "지도학습(Supervised Learning)과 비지도학습(Un-Supervised Learning), 강화학습(Reinforcement Learning)으로 나뉜다. 지도학습의 대표적인 머신러닝은 분류(Classification)와 회귀(Regression)으로 나눌 수 있다다.\n",
        "\n",
        "1.   지도학습\n",
        "*   분류\n",
        "*   회귀\n",
        "*   추천 시스템\n",
        "*   시각/음성 감지/인지\n",
        "*   텍스트 분석, NLP\n",
        "\n",
        "2.   비지도학습\n",
        "*   클러스터링\n",
        "*   차원 축소\n",
        "*   강화학습\n"
      ],
      "metadata": {
        "id": "Nt7p4DyBJyTr"
      }
    },
    {
      "cell_type": "markdown",
      "source": [
        "### 2. 파이썬 머신러닝 생태계를 구성하는 주요 패키지"
      ],
      "metadata": {
        "id": "zp3ZQTxRLDbb"
      }
    },
    {
      "cell_type": "markdown",
      "source": [
        "### 3. 넘파이"
      ],
      "metadata": {
        "id": "AYNqjn55LIUV"
      }
    },
    {
      "cell_type": "markdown",
      "source": [
        "넘파이(Numerical Python)\n",
        "\n",
        "*   파이썬에서 선형대수 기반의 프로그램을 쉽게 만들 수 있도록 지원하는 대표적인 패키지. \n",
        "*   루프를 사용하지 않고 대량 데이터의 배열 연산을 가능하게 하므로 빠른 배열 연산 속도를 보장함.\n",
        "*   배열 기반의 연산은 물론이고 다양한 데이터 핸들링 기능을 제공함\n",
        "\n",
        "넘파이 ndarray 개요\n",
        "\n",
        "*   관례상 import numpy as np의 형태로 모듈을 약어로 표현해주는 것이 관례\n",
        "*   기반 데이터 타입 : ndarray. 이를 이용해 넘파이에서 다차원 배열을 쉽게 생성하고 다양한 연산을 수행할 수 있음\n",
        "*   넘파이 array() 함수는 파이썬의 리스트와 같은 다양한 인자를 입력 받아서 ndarray로 변환하는 기능을 수행함. 생성된 ndarray 배열의 shape 변수는 ndarray의 크기, 즉 행과 열의 수를 튜플 형태로 가지고 있으며 이를 통해 ndarray 배열의 차원까지 알 수 있음.\n",
        "*   shape가 (n,m) : n개의 로우와 m개의 칼럼, n*m개의 데이터를 가지고 있음"
      ],
      "metadata": {
        "id": "-wTYe2YXLXD3"
      }
    },
    {
      "cell_type": "code",
      "source": [
        "import numpy as np"
      ],
      "metadata": {
        "id": "wgdAgL1AMqak"
      },
      "execution_count": 1,
      "outputs": []
    },
    {
      "cell_type": "code",
      "source": [
        "array1 = np.array([1,2,3])\n",
        "print('array1 type : ', type(array1))\n",
        "print('array1 array 형태 : ', array1.shape)\n",
        "\n",
        "array2 = np.array([[1,2,3],\n",
        "                   [2,3,4]])\n",
        "print('array2 type : ', type(array2))\n",
        "print('array2 array 형태 : ', array2.shape)\n",
        "\n",
        "array3 = np.array([[1,2,3]])\n",
        "print('array3 type : ', type(array3))\n",
        "print('array3 array 형태 : ', array3.shape)"
      ],
      "metadata": {
        "colab": {
          "base_uri": "https://localhost:8080/"
        },
        "id": "0mRD4fyaMsHR",
        "outputId": "d2cc2f4b-977b-4d6b-f22f-f5e6226deff3"
      },
      "execution_count": 2,
      "outputs": [
        {
          "output_type": "stream",
          "name": "stdout",
          "text": [
            "array1 type :  <class 'numpy.ndarray'>\n",
            "array1 array 형태 :  (3,)\n",
            "array2 type :  <class 'numpy.ndarray'>\n",
            "array2 array 형태 :  (2, 3)\n",
            "array3 type :  <class 'numpy.ndarray'>\n",
            "array3 array 형태 :  (1, 3)\n"
          ]
        }
      ]
    },
    {
      "cell_type": "code",
      "source": [
        "print('array1: {:0}차원, array2: {:1}차원, array3: {:2}차원'.format(array1.ndim, array2.ndim, \n",
        "                                                              array3.ndim))"
      ],
      "metadata": {
        "colab": {
          "base_uri": "https://localhost:8080/"
        },
        "id": "xB2YkqIdPKGn",
        "outputId": "80f15f37-cd76-4049-f9a3-c9492b6386c9"
      },
      "execution_count": 3,
      "outputs": [
        {
          "output_type": "stream",
          "name": "stdout",
          "text": [
            "array1: 1차원, array2: 2차원, array3:  2차원\n"
          ]
        }
      ]
    },
    {
      "cell_type": "markdown",
      "source": [
        "ndarray의 데이터 타입\n",
        "*   ndarray내의 데이터값은 숫자 값, 문자열 값, 불 값 등이 모두 가능함.\n",
        "*   int형(8bit, 16bit, 32bit), unsigned int형(8bit, 16bit, 32bit), float형(16bit, 32bit, 64bit, 128bit), complex타입\n",
        "*   ndarray내의 데이터 타입은 그 연산의 특성상 같은 데이터 타입만 가능함. -> 다른 데이터 유형이 섞여 있는 리스트를 ndarray로 변경하면 데이터 크기가 더 큰 데이터 타입으로 형 변환을 일괄 적용\n",
        "*   ndarray 내의 데이터 타입은 dtype 속성으로 확인할 수 있음\n",
        "*   ndarray 내 데이터값의 타입 변경도 astype() 메서드를 이용할 수 있음, astype()에 인자로 원하는 타입을 문자열로 지정하면 됨."
      ],
      "metadata": {
        "id": "tQKZ7GrnQ2DL"
      }
    },
    {
      "cell_type": "code",
      "source": [
        "list1 = [1,2,3]\n",
        "print(type(list1))\n",
        "array1 = np.array(list1) #ndarray로 변경경\n",
        "print(type(array1))\n",
        "print(array1, array1.dtype)"
      ],
      "metadata": {
        "colab": {
          "base_uri": "https://localhost:8080/"
        },
        "id": "Tdeom0zEP-TN",
        "outputId": "d4d99f0e-5720-4e3e-ce01-44df240f0a9b"
      },
      "execution_count": 4,
      "outputs": [
        {
          "output_type": "stream",
          "name": "stdout",
          "text": [
            "<class 'list'>\n",
            "<class 'numpy.ndarray'>\n",
            "[1 2 3] int64\n"
          ]
        }
      ]
    },
    {
      "cell_type": "code",
      "source": [
        "list2 = [1,2,'test']\n",
        "array2 = np.array(list2)\n",
        "print(array2, array2.dtype) #int형이 유니코드 문자열 값으로 변환\n",
        "\n",
        "list3 = [1,2,3.0]\n",
        "array3 = np.array(list3)\n",
        "print(array3, array3.dtype) #int가 float64형으로 변환환"
      ],
      "metadata": {
        "colab": {
          "base_uri": "https://localhost:8080/"
        },
        "id": "_dMXf8GXQJ-n",
        "outputId": "bc9b2361-0a22-44a6-c0a6-0c7310e3dc1f"
      },
      "execution_count": 5,
      "outputs": [
        {
          "output_type": "stream",
          "name": "stdout",
          "text": [
            "['1' '2' 'test'] <U21\n",
            "[1. 2. 3.] float64\n"
          ]
        }
      ]
    },
    {
      "cell_type": "code",
      "source": [
        "array_int = np.array([1,2,3])\n",
        "array_float = array_int.astype('float64')\n",
        "print(array_float, array_float.dtype)\n",
        "\n",
        "array_int1 = array_float.astype('int32')\n",
        "print(array_int1, array_int1.dtype)\n",
        "\n",
        "array_float1 = np.array([1.1,2.1,3.1])\n",
        "array_int2 = array_float1.astype('int32')\n",
        "print(array_int2, array_int2.dtype)"
      ],
      "metadata": {
        "colab": {
          "base_uri": "https://localhost:8080/"
        },
        "id": "sU1JThoCQjM2",
        "outputId": "79fd3141-63e8-49c9-e13e-97a64b91ad14"
      },
      "execution_count": 6,
      "outputs": [
        {
          "output_type": "stream",
          "name": "stdout",
          "text": [
            "[1. 2. 3.] float64\n",
            "[1 2 3] int32\n",
            "[1 2 3] int32\n"
          ]
        }
      ]
    },
    {
      "cell_type": "markdown",
      "source": [
        "ndarray를 편리하게 생성하기 - arrange, zeros, ones\n",
        "*   주로 테스트용 데이터를 만들거나 대규모의 데이터를 일괄적으로 초기화해야 할 경우에 사용됨.\n",
        "*   arange()는 range()와 유사한 기능을 함.\n",
        "*   zeros()는 함수 인자로 튜플 형태의 shape 값을 입력하면 모든 값을 0으로 채운 해당 shape를 가진 ndarray를 반환함.\n",
        "*   ones()는 함수 인자로 튜플 형태의 shape 값을 입력하면 모든 값을 1로 채운 해당 shape를 가진 ndarray를 반환함. dtype을 정해주지 않으면 디폴트로 float64 형의 데이터로 ndarray를 채운다."
      ],
      "metadata": {
        "id": "twlD3xSdSpJp"
      }
    },
    {
      "cell_type": "code",
      "source": [
        "sequence_array = np.arange(10)\n",
        "print(sequence_array)\n",
        "print(sequence_array.dtype, sequence_array.shape)"
      ],
      "metadata": {
        "colab": {
          "base_uri": "https://localhost:8080/"
        },
        "id": "iHz4Fmf_TVXD",
        "outputId": "e2974b46-5bdb-41c6-c5ff-04bd2b0eac59"
      },
      "execution_count": 8,
      "outputs": [
        {
          "output_type": "stream",
          "name": "stdout",
          "text": [
            "[0 1 2 3 4 5 6 7 8 9]\n",
            "int64 (10,)\n"
          ]
        }
      ]
    },
    {
      "cell_type": "code",
      "source": [
        "zero_array = np.zeros((3,2), dtype='int32')\n",
        "print(zero_array)\n",
        "print(zero_array.dtype, zero_array.shape)\n",
        "\n",
        "one_array = np.ones((3,2))\n",
        "print(one_array)\n",
        "print(one_array.dtype, one_array.shape)"
      ],
      "metadata": {
        "colab": {
          "base_uri": "https://localhost:8080/"
        },
        "id": "9iV-vweiTgZX",
        "outputId": "ffa245c9-793a-491c-bfc1-12d72c7455a9"
      },
      "execution_count": 9,
      "outputs": [
        {
          "output_type": "stream",
          "name": "stdout",
          "text": [
            "[[0 0]\n",
            " [0 0]\n",
            " [0 0]]\n",
            "int32 (3, 2)\n",
            "[[1. 1.]\n",
            " [1. 1.]\n",
            " [1. 1.]]\n",
            "float64 (3, 2)\n"
          ]
        }
      ]
    },
    {
      "cell_type": "markdown",
      "source": [
        "ndarray의 차원과 크기를 변경하는 reshape()\n",
        "\n",
        "*   reshape() : ndarray를 특정 차원 및 크기로 변환함. 변환을 원하는 크기를 함수 인자로 부여하면 됨.\n",
        "*   reshape(-1,1)은 원본 ndarray가 어떤 형태라도 2차원이고, 여러개의 로우를 가지되 반드시 1개의 칼럼을 가진 ndarray로 변환됨을 보장함."
      ],
      "metadata": {
        "id": "e9JUZSfRTxRA"
      }
    },
    {
      "cell_type": "code",
      "source": [
        "array1 = np.arange(10)\n",
        "print('array1:\\n', array1)\n",
        "\n",
        "array2 = array1.reshape(2,5)\n",
        "print('array2:\\n', array2)\n",
        "\n",
        "array3 = array1.reshape(5,2)\n",
        "print('array3:\\n', array3)"
      ],
      "metadata": {
        "colab": {
          "base_uri": "https://localhost:8080/"
        },
        "id": "4P3Jy1iyT50Z",
        "outputId": "0a14566f-2b77-4db3-e561-e8485ddd15ad"
      },
      "execution_count": 10,
      "outputs": [
        {
          "output_type": "stream",
          "name": "stdout",
          "text": [
            "array1:\n",
            " [0 1 2 3 4 5 6 7 8 9]\n",
            "array2:\n",
            " [[0 1 2 3 4]\n",
            " [5 6 7 8 9]]\n",
            "array3:\n",
            " [[0 1]\n",
            " [2 3]\n",
            " [4 5]\n",
            " [6 7]\n",
            " [8 9]]\n"
          ]
        }
      ]
    },
    {
      "cell_type": "code",
      "source": [
        "array1.reshape(4,3)\n",
        "#(10,0)데이터를 (4,3) shape 형태로 변경할 수 없음"
      ],
      "metadata": {
        "colab": {
          "base_uri": "https://localhost:8080/",
          "height": 172
        },
        "id": "3KDwNqO8Uo0z",
        "outputId": "0012af91-3cf0-42a6-96ed-b6b9a76d19ea"
      },
      "execution_count": 11,
      "outputs": [
        {
          "output_type": "error",
          "ename": "ValueError",
          "evalue": "ignored",
          "traceback": [
            "\u001b[0;31m---------------------------------------------------------------------------\u001b[0m",
            "\u001b[0;31mValueError\u001b[0m                                Traceback (most recent call last)",
            "\u001b[0;32m<ipython-input-11-a40469ec5825>\u001b[0m in \u001b[0;36m<module>\u001b[0;34m\u001b[0m\n\u001b[0;32m----> 1\u001b[0;31m \u001b[0marray1\u001b[0m\u001b[0;34m.\u001b[0m\u001b[0mreshape\u001b[0m\u001b[0;34m(\u001b[0m\u001b[0;36m4\u001b[0m\u001b[0;34m,\u001b[0m\u001b[0;36m3\u001b[0m\u001b[0;34m)\u001b[0m\u001b[0;34m\u001b[0m\u001b[0;34m\u001b[0m\u001b[0m\n\u001b[0m",
            "\u001b[0;31mValueError\u001b[0m: cannot reshape array of size 10 into shape (4,3)"
          ]
        }
      ]
    },
    {
      "cell_type": "code",
      "source": [
        "array1 = np.arange(10)\n",
        "print(array1)\n",
        "array2 = array1.reshape(-1,5) \n",
        "#10개의 1차원 데이터와 호환될 수 있는 고정된 5개 col에 맞는 row는 2\n",
        "print('array2 shape:', array2.shape)\n",
        "array3 = array1.reshape(5,-1)\n",
        "#10개의 1차원 데이터와 호환될 수 있는 고정된 5개 row에 맞는 col은은 2\n",
        "print('array3 shape:', array3.shape)"
      ],
      "metadata": {
        "colab": {
          "base_uri": "https://localhost:8080/"
        },
        "id": "YhtRyRD8UxlC",
        "outputId": "97eeb83e-7d21-4e24-9b91-60234e0808ad"
      },
      "execution_count": 13,
      "outputs": [
        {
          "output_type": "stream",
          "name": "stdout",
          "text": [
            "[0 1 2 3 4 5 6 7 8 9]\n",
            "array2 shape: (2, 5)\n",
            "array3 shape: (5, 2)\n"
          ]
        }
      ]
    },
    {
      "cell_type": "code",
      "source": [
        "array1 = np.arange(10)\n",
        "array4 = array1.reshape(-1,4)\n",
        "#10개의 1차원 데이터를 고정된 4개의 칼럼을 가진 로우로는 변경할 수 없기에 에러 발생"
      ],
      "metadata": {
        "colab": {
          "base_uri": "https://localhost:8080/",
          "height": 190
        },
        "id": "QOSw61cYV_Kt",
        "outputId": "53515e75-7dfc-4169-d77a-8b1d8d54c7b3"
      },
      "execution_count": 14,
      "outputs": [
        {
          "output_type": "error",
          "ename": "ValueError",
          "evalue": "ignored",
          "traceback": [
            "\u001b[0;31m---------------------------------------------------------------------------\u001b[0m",
            "\u001b[0;31mValueError\u001b[0m                                Traceback (most recent call last)",
            "\u001b[0;32m<ipython-input-14-07da9760475e>\u001b[0m in \u001b[0;36m<module>\u001b[0;34m\u001b[0m\n\u001b[1;32m      1\u001b[0m \u001b[0marray1\u001b[0m \u001b[0;34m=\u001b[0m \u001b[0mnp\u001b[0m\u001b[0;34m.\u001b[0m\u001b[0marange\u001b[0m\u001b[0;34m(\u001b[0m\u001b[0;36m10\u001b[0m\u001b[0;34m)\u001b[0m\u001b[0;34m\u001b[0m\u001b[0;34m\u001b[0m\u001b[0m\n\u001b[0;32m----> 2\u001b[0;31m \u001b[0marray4\u001b[0m \u001b[0;34m=\u001b[0m \u001b[0marray1\u001b[0m\u001b[0;34m.\u001b[0m\u001b[0mreshape\u001b[0m\u001b[0;34m(\u001b[0m\u001b[0;34m-\u001b[0m\u001b[0;36m1\u001b[0m\u001b[0;34m,\u001b[0m\u001b[0;36m4\u001b[0m\u001b[0;34m)\u001b[0m\u001b[0;34m\u001b[0m\u001b[0;34m\u001b[0m\u001b[0m\n\u001b[0m",
            "\u001b[0;31mValueError\u001b[0m: cannot reshape array of size 10 into shape (4)"
          ]
        }
      ]
    },
    {
      "cell_type": "code",
      "source": [
        "array1 = np.arange(8)\n",
        "array3d = array1.reshape((2,2,2))\n",
        "print('array3d:\\n', array3d.tolist())\n",
        "\n",
        "#3차원 ndarray를 2차원 ndarray로 변환\n",
        "array5 = array3d.reshape(-1,1)\n",
        "print('array5:\\n', array5.tolist())\n",
        "print('array5 shape: ', array5.shape)\n",
        "\n",
        "#1차원 ndarray를 2차원 ndarray로 변환\n",
        "array6 = array1.reshape(-1,1)\n",
        "print('array6:\\n', array6.tolist())\n",
        "print('array6 shape: ', array6.shape)"
      ],
      "metadata": {
        "colab": {
          "base_uri": "https://localhost:8080/"
        },
        "id": "Le6_A7RQW3u4",
        "outputId": "223957a3-eb43-4cf0-e813-61e8cc43fb11"
      },
      "execution_count": 15,
      "outputs": [
        {
          "output_type": "stream",
          "name": "stdout",
          "text": [
            "array3d:\n",
            " [[[0, 1], [2, 3]], [[4, 5], [6, 7]]]\n",
            "array5:\n",
            " [[0], [1], [2], [3], [4], [5], [6], [7]]\n",
            "array5 shape:  (8, 1)\n",
            "array6:\n",
            " [[0], [1], [2], [3], [4], [5], [6], [7]]\n",
            "array6 shape:  (8, 1)\n"
          ]
        }
      ]
    },
    {
      "cell_type": "markdown",
      "source": [
        "넘파이의 ndarray의 데이터 세트 선택하기 - 인덱싱(Indexing)\n",
        "\n",
        "\n",
        "1.   특정한 데이터만 추출 : 원하는 위치의 인덱스 값을 지정하면 해당 위치의 데이터가 반환됨.\n",
        "2.   슬라이싱(Slicing) : 슬라이싱은 연관된 인덱스상의 ndarray를 추출하는 방식임. ':'기호 사이에 시작 인덱스와 종료 인덱스를 표시하면 시작 인덱스에서 종료 인덱스-1 위치에 있는 데이터의 ndarray를 반환함. 예를 들어 1:5라고 하면 시작 인덱스 1과 종료 인덱스 4까지에 해당하는 ndarray를 반환함.\n",
        "3.   팬시 인덱싱(Fancy Indexing) : 일정한 인덱싱 집합을 리스트 또는 ndarray 형태로 지정해 해당 위치에 있는 데이터의 ndarray를 반환함\n",
        "4.   불린 인덱싱(Boolean Indexing) : 특정 조건에 해당하는지 여부인 True / False 값 인덱싱 집합을 기반으로 True에 해당하는 인덱스 위치에 있는 데이터의 ndarrya를 반환합니다.\n",
        "\n"
      ],
      "metadata": {
        "id": "TKhTpPQyXxey"
      }
    },
    {
      "cell_type": "code",
      "source": [
        "#단일 값 추출\n",
        "\n",
        "#1부터 9까지의 1차원 ndarray 생성\n",
        "array1 = np.arange(start=1, stop=10)\n",
        "print('array1: ', array1)\n",
        "value = array1[2]\n",
        "#index 0부터 시작하므로 array1[2]는 3번째 index 위치의 데이터값을 의미 \n",
        "print('value:',value)\n",
        "print(type(value))"
      ],
      "metadata": {
        "colab": {
          "base_uri": "https://localhost:8080/"
        },
        "id": "j3fXSJYeYyz9",
        "outputId": "72a55a8c-aa67-4a48-c2c1-bc82bba24fbf"
      },
      "execution_count": 16,
      "outputs": [
        {
          "output_type": "stream",
          "name": "stdout",
          "text": [
            "array1:  [1 2 3 4 5 6 7 8 9]\n",
            "value: 3\n",
            "<class 'numpy.int64'>\n"
          ]
        }
      ]
    },
    {
      "cell_type": "code",
      "source": [
        "#단일 인덱스 값을 이용해 ndarray 내의 데이터 값도 간단히 수정 가능함\n",
        "array1[0] = 9\n",
        "array1[8] = 0\n",
        "print('array1: ', array1)"
      ],
      "metadata": {
        "colab": {
          "base_uri": "https://localhost:8080/"
        },
        "id": "OofSKaJvZc6c",
        "outputId": "6624df89-d545-468e-fbf0-daf3fceec64c"
      },
      "execution_count": 17,
      "outputs": [
        {
          "output_type": "stream",
          "name": "stdout",
          "text": [
            "array1:  [9 2 3 4 5 6 7 8 0]\n"
          ]
        }
      ]
    },
    {
      "cell_type": "code",
      "source": [
        "#다차원 ndarray에서 단일 값을 추출\n",
        "#앞 예제의 1차원 ndarray를 2차원의 3*3 ndarray로 변환한 후, \n",
        "#[row,col]을 이용해 2차원 ndarray에서 데이터 추출\n",
        "\n",
        "array1d = np.arange(start=1, stop=10)\n",
        "array2d = array1d.reshape(3,3)\n",
        "print(array2d)\n",
        "\n",
        "print('(row=0, col=0 index 가리키는 값:', array2d[0,0])\n",
        "print('(row=0, col=1 index 가리키는 값:', array2d[0,1])\n",
        "print('(row=1, col=0 index 가리키는 값:', array2d[1,0])\n",
        "print('(row=2, col=0 index 가리키는 값:', array2d[2,2])"
      ],
      "metadata": {
        "colab": {
          "base_uri": "https://localhost:8080/"
        },
        "id": "o5PUsG9yZrL9",
        "outputId": "00e03723-3ff5-42f5-e9a7-ec27f17d01b7"
      },
      "execution_count": 18,
      "outputs": [
        {
          "output_type": "stream",
          "name": "stdout",
          "text": [
            "[[1 2 3]\n",
            " [4 5 6]\n",
            " [7 8 9]]\n",
            "(row=0, col=0 index 가리키는 값: 1\n",
            "(row=0, col=1 index 가리키는 값: 2\n",
            "(row=1, col=0 index 가리키는 값: 4\n",
            "(row=2, col=0 index 가리키는 값: 9\n"
          ]
        }
      ]
    },
    {
      "cell_type": "code",
      "source": [
        "array1 = np.arange(start=1, stop=10)\n",
        "array3 = array1[0:3]\n",
        "print(array3)\n",
        "print(type(array3))"
      ],
      "metadata": {
        "colab": {
          "base_uri": "https://localhost:8080/"
        },
        "id": "Grp0TL6eaQOA",
        "outputId": "1916edd8-427d-44f2-f923-2cb84cc09616"
      },
      "execution_count": 19,
      "outputs": [
        {
          "output_type": "stream",
          "name": "stdout",
          "text": [
            "[1 2 3]\n",
            "<class 'numpy.ndarray'>\n"
          ]
        }
      ]
    },
    {
      "cell_type": "markdown",
      "source": [
        "슬라이싱 기호인 ':' 사이의 시작, 종료 인덱스는 생략 가능\n",
        "\n",
        "\n",
        "*   ':' 기호 앞에 시작 인덱스를 생략하면 자동으로 맨 처음 인덱스인 0으로 간주함\n",
        "*   ':' 기호 뒤에 종료 인덱스를 생략하면 자동으로 맨 마지막 인덱스로 간주함\n",
        "*   ':' 기호 앞/뒤에 시작/종료 인덱스를 생략하면 자동으로 맨 처음/맨 마지막 인덱스로 간주함함\n",
        "\n"
      ],
      "metadata": {
        "id": "TOzcfM4makeW"
      }
    },
    {
      "cell_type": "code",
      "source": [
        "array1 = np.arange(start=1, stop=10)\n",
        "array4 = array1[:3]\n",
        "print(array4)\n",
        "\n",
        "array5 = array1[3:]\n",
        "print(array5)\n",
        "\n",
        "array6 = array1[:]\n",
        "print(array6)"
      ],
      "metadata": {
        "colab": {
          "base_uri": "https://localhost:8080/"
        },
        "id": "aGf8gX56a4Dc",
        "outputId": "52776ecc-07ed-4c0a-9edb-7306f9077e7d"
      },
      "execution_count": 21,
      "outputs": [
        {
          "output_type": "stream",
          "name": "stdout",
          "text": [
            "[1 2 3]\n",
            "[4 5 6 7 8 9]\n",
            "[1 2 3 4 5 6 7 8 9]\n"
          ]
        }
      ]
    },
    {
      "cell_type": "code",
      "source": [
        "#2차원 ndarray에서 슬라이싱으로 데이터에 접근\n",
        "array1d = np.arange(start=1, stop=10)\n",
        "array2d = array1d.reshape(3,3)\n",
        "print('array2d:\\n', array2d)\n",
        "\n",
        "print('array2d[0:2,0:2] \\n', array2d[0:2,0:2])\n",
        "print('array2d[1:3,0:3] \\n', array2d[1:3,0:3])\n",
        "print('array2d[1:3,:] \\n', array2d[1:3,:])\n",
        "print('array2d[:,:] \\n', array2d[:,:])\n",
        "print('array2d[:2,1:] \\n', array2d[:2,1:])\n",
        "print('array2d[:2,0] \\n', array2d[:2,0]) #반환되는 ndarray는 1차원"
      ],
      "metadata": {
        "colab": {
          "base_uri": "https://localhost:8080/"
        },
        "id": "XEhBL3R5bJhS",
        "outputId": "cc99b5d3-b967-473e-b877-8279eef2ea31"
      },
      "execution_count": 22,
      "outputs": [
        {
          "output_type": "stream",
          "name": "stdout",
          "text": [
            "array2d:\n",
            " [[1 2 3]\n",
            " [4 5 6]\n",
            " [7 8 9]]\n",
            "array2d[0:2,0:2] \n",
            " [[1 2]\n",
            " [4 5]]\n",
            "array2d[1:3,0:3] \n",
            " [[4 5 6]\n",
            " [7 8 9]]\n",
            "array2d[1:3,:] \n",
            " [[4 5 6]\n",
            " [7 8 9]]\n",
            "array2d[:,:] \n",
            " [[1 2 3]\n",
            " [4 5 6]\n",
            " [7 8 9]]\n",
            "array2d[:2,1:] \n",
            " [[2 3]\n",
            " [5 6]]\n",
            "array2d[:2,0] \n",
            " [1 4]\n"
          ]
        }
      ]
    },
    {
      "cell_type": "code",
      "source": [
        "print(array2d[0])\n",
        "print(array2d[1])\n",
        "print('array2d[0] shape: ', array2d[0].shape, 'array2d[1] shape: ', array2d[1].shape)"
      ],
      "metadata": {
        "colab": {
          "base_uri": "https://localhost:8080/"
        },
        "id": "3I49UQAtb6YW",
        "outputId": "86c3920e-2eb7-4fe9-952d-f034b3ec37af"
      },
      "execution_count": 23,
      "outputs": [
        {
          "output_type": "stream",
          "name": "stdout",
          "text": [
            "[1 2 3]\n",
            "[4 5 6]\n",
            "array2d[0] shape:  (3,) array2d[1] shape:  (3,)\n"
          ]
        }
      ]
    },
    {
      "cell_type": "markdown",
      "source": [
        "팬시 인덱싱\n",
        "\n",
        "\n",
        "*   팬시 인덱싱 (Fancy Indexing) : 리스트나 ndarray로 인덱스 집합을 지정하면 해당 위치의 인덱스에 해당하는 ndarray를 반환하는 인덱싱 방식임임\n",
        "\n"
      ],
      "metadata": {
        "id": "nbgAh8LNt2rg"
      }
    },
    {
      "cell_type": "code",
      "source": [
        "array1d = np.arange(start=1, stop=10)\n",
        "array2d = array1d.reshape(3,3)\n",
        "\n",
        "array3 = array2d[[0,1],2]\n",
        "print('array2d[[0,1],2] => ', array3.tolist())\n",
        "\n",
        "array4 = array2d[[0,1],0:2]\n",
        "print('array2d[[0,1],0:2] => ', array4.tolist())\n",
        "\n",
        "array5 = array2d[[0,1]]\n",
        "print('array2d[[0,1]] => ', array5.tolist())"
      ],
      "metadata": {
        "colab": {
          "base_uri": "https://localhost:8080/"
        },
        "id": "gvpwWnkVt123",
        "outputId": "4c70508a-66f8-44de-914d-48fc139eee26"
      },
      "execution_count": 26,
      "outputs": [
        {
          "output_type": "stream",
          "name": "stdout",
          "text": [
            "array2d[[0,1],2] =>  [3, 6]\n",
            "array2d[[0,1],0:2] =>  [[1, 2], [4, 5]]\n",
            "array2d[[0,1]] =>  [[1, 2, 3], [4, 5, 6]]\n"
          ]
        }
      ]
    },
    {
      "cell_type": "markdown",
      "source": [
        "불린 인덱싱\n",
        "*   불린 인덱싱(Booleen indexing) : 조건 필터링과 검색을 동시에 할 수 있기 때문에 매우 자주 사용되는 인덱싱 방식\n",
        "*   for loof / if else 문보다 훨씬 간단하게 구현할 수 있음\n",
        "*   ndarray의 인덱스를 지정하는 [] 내에 조건문을 그대로 기재하기만 하면 됨됨"
      ],
      "metadata": {
        "id": "j34nppk0uslv"
      }
    },
    {
      "cell_type": "code",
      "source": [
        "array1d = np.arange(start=1, stop=10)\n",
        "#[] 안에 array1d>5 Boolean indexing을 적용\n",
        "array3 = array1d[array1d>5]\n",
        "print('array1d>5 불리 인덱싱 결과 값 : ', array3)"
      ],
      "metadata": {
        "colab": {
          "base_uri": "https://localhost:8080/"
        },
        "id": "gKTqvIxEu9Ii",
        "outputId": "21c3dc83-bf42-455b-b402-377a3005ef7b"
      },
      "execution_count": 27,
      "outputs": [
        {
          "output_type": "stream",
          "name": "stdout",
          "text": [
            "array1d>5 불리 인덱싱 결과 값 :  [6 7 8 9]\n"
          ]
        }
      ]
    },
    {
      "cell_type": "code",
      "source": [
        "array1d>5"
      ],
      "metadata": {
        "colab": {
          "base_uri": "https://localhost:8080/"
        },
        "id": "AXpopIE1vNOS",
        "outputId": "6e4d69db-c848-4bfe-cdb0-159c9b5406c1"
      },
      "execution_count": 28,
      "outputs": [
        {
          "output_type": "execute_result",
          "data": {
            "text/plain": [
              "array([False, False, False, False, False,  True,  True,  True,  True])"
            ]
          },
          "metadata": {},
          "execution_count": 28
        }
      ]
    },
    {
      "cell_type": "code",
      "source": [
        "boolean_indexes = np.array([False, False, False, False, False, True, True, True, True])\n",
        "array3 = array1d[boolean_indexes]\n",
        "print('불린 인덱스로 필터링 결과 :', array3)"
      ],
      "metadata": {
        "colab": {
          "base_uri": "https://localhost:8080/"
        },
        "id": "mALgMAjivRLh",
        "outputId": "68d5fd2a-0195-497d-d356-88130e88bc97"
      },
      "execution_count": 30,
      "outputs": [
        {
          "output_type": "stream",
          "name": "stdout",
          "text": [
            "불린 인덱스로 필터링 결과 : [6 7 8 9]\n"
          ]
        }
      ]
    },
    {
      "cell_type": "code",
      "source": [
        "indexes = np.array([5,6,7,8])\n",
        "array4 = array1d[indexes]\n",
        "print('일반 인덱스로 필터링 결과 :', array4)\n",
        "#위와 동일한 결과과"
      ],
      "metadata": {
        "colab": {
          "base_uri": "https://localhost:8080/"
        },
        "id": "-dp6Fcp6vevw",
        "outputId": "d859248d-9aff-4875-85b8-c6bae5c0787b"
      },
      "execution_count": 31,
      "outputs": [
        {
          "output_type": "stream",
          "name": "stdout",
          "text": [
            "일반 인덱스로 필터링 결과 : [6 7 8 9]\n"
          ]
        }
      ]
    },
    {
      "cell_type": "markdown",
      "source": [
        "불린 인덱싱이 동작하는 단계\n",
        "\n",
        "\n",
        "1.   array1d>5와 같이 ndarray의 필터링 조건을 [] 안에 기재\n",
        "2.   False 값은 무시하고 True 값에 해당하는 인덱스값만 저장(유의해야 할 사항은 True 값 자체인 1을 저장하는 것이 아니라 True 값을 가진 인덱스를 저장한다는 것)\n",
        "3.   저장된 인덱스 데이터 세트로 ndarray 조회회\n",
        "\n"
      ],
      "metadata": {
        "id": "cY-hkk_gv69t"
      }
    },
    {
      "cell_type": "markdown",
      "source": [
        "행렬의 정렬 - sort()와 argsort()\n",
        "\n",
        "행렬 정렬\n",
        "*   np.sort() : 원 행렬은 그대로 유지한 채 원 행렬의 정렬된 행렬을 반환함\n",
        "*   ndarray.sort()는 원 행렬 자체를 정렬한 형태로 변환하며 반환 값은 None입니다."
      ],
      "metadata": {
        "id": "_e1W7mXjwezI"
      }
    },
    {
      "cell_type": "code",
      "source": [
        "org_array = np.array([3,1,9,5])\n",
        "print('원본 행렬 : ', org_array)\n",
        "#np.sort()로 정렬\n",
        "sort_array1 = np.sort(org_array)\n",
        "print('np.sort() 호출 후 반환된 정렬 행렬:', sort_array1)\n",
        "print('np.sort() 호출 후 원본 행렬 :', org_array)\n",
        "#ndarray.sort()로 정렬\n",
        "sort_array2 = org_array.sort()\n",
        "print('org_array.sort() 호출 후 반환된 행렬 : ', sort_array2)\n",
        "print('org_array.sort() 호출 후 원본 행렬 : ', org_array)"
      ],
      "metadata": {
        "colab": {
          "base_uri": "https://localhost:8080/"
        },
        "id": "Qu34GrgVv5pz",
        "outputId": "d6ee8d7a-30d8-413c-8bda-b247c9e285c3"
      },
      "execution_count": 33,
      "outputs": [
        {
          "output_type": "stream",
          "name": "stdout",
          "text": [
            "원본 행렬 :  [3 1 9 5]\n",
            "np.sort() 호출 후 반환된 정렬 행렬: [1 3 5 9]\n",
            "np.sort() 호출 후 원본 행렬 : [3 1 9 5]\n",
            "org_array.sort() 호출 후 반환된 행렬 :  None\n",
            "org_array.sort() 호출 후 원본 행렬 :  [1 3 5 9]\n"
          ]
        }
      ]
    },
    {
      "cell_type": "code",
      "source": [
        "#디폴트 : 오름차순, [::-1] : 내림차순\n",
        "sort_array1_desc = np.sort(org_array)[::-1]\n",
        "print('내림차순으로 정렬: ', sort_array1_desc)"
      ],
      "metadata": {
        "colab": {
          "base_uri": "https://localhost:8080/"
        },
        "id": "NBNc2MAMxdJm",
        "outputId": "240dd193-f27d-41c7-c27b-42b7e2a392f5"
      },
      "execution_count": 34,
      "outputs": [
        {
          "output_type": "stream",
          "name": "stdout",
          "text": [
            "내림차순으로 정렬:  [9 5 3 1]\n"
          ]
        }
      ]
    },
    {
      "cell_type": "code",
      "source": [
        "#axis 축 값 설정을 통해 방향을 지정 가능\n",
        "array2d = np.array([[8,12],\n",
        "                    [7,1]])\n",
        "\n",
        "sort_array2d_axis0 = np.sort(array2d, axis=0)\n",
        "print('로우 방향으로 정렬:\\n', sort_array2d_axis0)\n",
        "\n",
        "sort_array2d_axis1 = np.sort(array2d, axis=1)\n",
        "print('칼럼 방향으로 정렬:\\n', sort_array2d_axis1)"
      ],
      "metadata": {
        "colab": {
          "base_uri": "https://localhost:8080/"
        },
        "id": "L-EFgWdvxuKU",
        "outputId": "0f821317-5c80-4f1d-e7a0-3f721047dcdc"
      },
      "execution_count": 35,
      "outputs": [
        {
          "output_type": "stream",
          "name": "stdout",
          "text": [
            "로우 방향으로 정렬:\n",
            " [[ 7  1]\n",
            " [ 8 12]]\n",
            "칼럼 방향으로 정렬:\n",
            " [[ 8 12]\n",
            " [ 1  7]]\n"
          ]
        }
      ]
    },
    {
      "cell_type": "markdown",
      "source": [
        "정렬된 행렬의 인덱스 반환\n",
        "\n",
        "\n",
        "*   np.argsort() : 원본 행렬이 정렬되었을 때 기존 원본 행렬의 원소에 대한 인덱스를 필요할 때 이용, 정렬 행렬의 원본 행렬 인덱스를 ndarray 형으로 반환\n",
        "*   넘파이의 ndarray는 실제 값과 그 값이 뜻하는 메타 데이터를 별도의 ndarray로 각각 가져야만 함"
      ],
      "metadata": {
        "id": "M45SmjrSyKe-"
      }
    },
    {
      "cell_type": "code",
      "source": [
        "org_array = np.array([3,1,9,5])\n",
        "sort_indices = np.argsort(org_array)\n",
        "print(type(sort_indices))\n",
        "print('행렬 정렬 시 원본 행렬의 인덱스: ', sort_indices)"
      ],
      "metadata": {
        "colab": {
          "base_uri": "https://localhost:8080/"
        },
        "id": "qfqVakjjx1wj",
        "outputId": "c4c23313-390d-40ca-d89a-f72a236938e1"
      },
      "execution_count": 40,
      "outputs": [
        {
          "output_type": "stream",
          "name": "stdout",
          "text": [
            "<class 'numpy.ndarray'>\n",
            "행렬 정렬 시 원본 행렬의 인덱스:  [1 0 3 2]\n"
          ]
        }
      ]
    },
    {
      "cell_type": "code",
      "source": [
        "#내림차순 : np.argsort()[::-1]\n",
        "org_array = np.array([3,1,9,5])\n",
        "sort_indices_desc = np.argsort(org_array)[::-1]\n",
        "print('행렬 내림차순 정렬 시 원본 행렬의 인덱스 : ', sort_indices_desc)"
      ],
      "metadata": {
        "colab": {
          "base_uri": "https://localhost:8080/"
        },
        "id": "tFjwpRDyyvOr",
        "outputId": "3265744a-ed5b-42bd-fc20-1458c7103e33"
      },
      "execution_count": 41,
      "outputs": [
        {
          "output_type": "stream",
          "name": "stdout",
          "text": [
            "행렬 내림차순 정렬 시 원본 행렬의 인덱스 :  [2 3 0 1]\n"
          ]
        }
      ]
    },
    {
      "cell_type": "code",
      "source": [
        "import numpy as np\n",
        "\n",
        "name_array = np.array(['John', 'Mike', 'Sarah', 'Kate', 'Samuel'])\n",
        "score_array = np.array([78,95,84,98,88])\n",
        "\n",
        "sort_indices_asc = np.argsort(score_array)\n",
        "print('성적 오름차순 정렬 시 score_array의 인덱스 : ', sort_indices_asc)\n",
        "print('성적 오름차순으로 name_array의 이름 출력 : ', name_array[sort_indices_asc])"
      ],
      "metadata": {
        "colab": {
          "base_uri": "https://localhost:8080/"
        },
        "id": "2GtWNl59zNs4",
        "outputId": "519f5eb7-08ac-41d0-abb5-30a09c3df9b8"
      },
      "execution_count": 42,
      "outputs": [
        {
          "output_type": "stream",
          "name": "stdout",
          "text": [
            "성적 오름차순 정렬 시 score_array의 인덱스 :  [0 2 4 1 3]\n",
            "성적 오름차순으로 name_array의 이름 출력 :  ['John' 'Sarah' 'Samuel' 'Mike' 'Kate']\n"
          ]
        }
      ]
    },
    {
      "cell_type": "markdown",
      "source": [
        "선형대수 연산 - 행렬 내적과 전치 행렬 구하기\n",
        "\n",
        "행렬 내적(행렬 곱)\n",
        "*   행렬 내적은 행렬 곱이며, 두 행렬 A와 B의 내적은 np.dot()을 이용해 계산이 가능함함"
      ],
      "metadata": {
        "id": "oTQR6yhvys3p"
      }
    },
    {
      "cell_type": "code",
      "source": [
        "A = np.array([[1,2,3],\n",
        "              [4,5,6]])\n",
        "B = np.array([[7,8],\n",
        "              [9,10],\n",
        "              [11,12]])\n",
        "dot_product = np.dot(A,B)\n",
        "print('행렬 내적 결과 :\\n', dot_product)"
      ],
      "metadata": {
        "colab": {
          "base_uri": "https://localhost:8080/"
        },
        "id": "O48pEDoZz1Zk",
        "outputId": "1f71dea3-5214-4fd6-a79c-83a8c95d829b"
      },
      "execution_count": 43,
      "outputs": [
        {
          "output_type": "stream",
          "name": "stdout",
          "text": [
            "행렬 내적 결과 :\n",
            " [[ 58  64]\n",
            " [139 154]]\n"
          ]
        }
      ]
    },
    {
      "cell_type": "markdown",
      "source": [
        "전치 행렬\n",
        "\n",
        "*   원 행렬에서 행과 열 위치를 교환한 원소로 구성한 행렬을 그 행렬의 전치 행렬이라고 함\n",
        "*   넘파이의 transpose()를 이용해 전치 행렬을 구할 수 있음"
      ],
      "metadata": {
        "id": "BNvzvcZI0DmJ"
      }
    },
    {
      "cell_type": "code",
      "source": [
        "A = np.array([[1,2],\n",
        "              [3,4]])\n",
        "transpose_mat = np.transpose(A)\n",
        "print('A의 전치 행렬 : \\n', transpose_mat)"
      ],
      "metadata": {
        "colab": {
          "base_uri": "https://localhost:8080/"
        },
        "id": "-nj8lHRo0Qum",
        "outputId": "7757e3f7-22fd-448e-cdfc-8e38a3febaaf"
      },
      "execution_count": 44,
      "outputs": [
        {
          "output_type": "stream",
          "name": "stdout",
          "text": [
            "A의 전치 행렬 : \n",
            " [[1 3]\n",
            " [2 4]]\n"
          ]
        }
      ]
    }
  ]
}