{
  "nbformat": 4,
  "nbformat_minor": 0,
  "metadata": {
    "colab": {
      "provenance": [],
      "mount_file_id": "1L0ZI-7WsF-EKWQEktdsgYcOiy9n0lGPL",
      "authorship_tag": "ABX9TyMQT/kAxX/bhMUupuaHWdKc",
      "include_colab_link": true
    },
    "kernelspec": {
      "name": "python3",
      "display_name": "Python 3"
    },
    "language_info": {
      "name": "python"
    }
  },
  "cells": [
    {
      "cell_type": "markdown",
      "metadata": {
        "id": "view-in-github",
        "colab_type": "text"
      },
      "source": [
        "<a href=\"https://colab.research.google.com/github/hseyeon1006/ESAA_YB/blob/main/HW0407.ipynb\" target=\"_parent\"><img src=\"https://colab.research.google.com/assets/colab-badge.svg\" alt=\"Open In Colab\"/></a>"
      ]
    },
    {
      "cell_type": "markdown",
      "source": [
        "#12. 시계열 데이터"
      ],
      "metadata": {
        "id": "ePSBZq-7CQ53"
      }
    },
    {
      "cell_type": "markdown",
      "source": [
        "##12-1. datetime 오브젝트"
      ],
      "metadata": {
        "id": "4N3zA8eNCVLO"
      }
    },
    {
      "cell_type": "markdown",
      "source": [
        "* datetime : 날짜와 시간을 처리하는 등의 다양한 기능을 제공하는 파이썬 라이브러리\n",
        "* date 오브젝트 : 날짜를 처리\n",
        "* time 오브젝트 : 시간을 처리\n",
        "* datetime 오브젝트 : 날짜와 시간을 모두 처리"
      ],
      "metadata": {
        "id": "4zPNSF5lCX6l"
      }
    },
    {
      "cell_type": "markdown",
      "source": [
        "###datetime 오브젝트 사용하기"
      ],
      "metadata": {
        "id": "bBjZQWvdCj52"
      }
    },
    {
      "cell_type": "markdown",
      "source": [
        "1. datetime 라이브러리 불러오기"
      ],
      "metadata": {
        "id": "c3RMT2vHCuKx"
      }
    },
    {
      "cell_type": "code",
      "execution_count": 1,
      "metadata": {
        "id": "SJjdDriFCI3b"
      },
      "outputs": [],
      "source": [
        "from datetime import datetime"
      ]
    },
    {
      "cell_type": "markdown",
      "source": [
        "2. now, today 메서드 이용하기"
      ],
      "metadata": {
        "id": "eYWN_NbqCwPz"
      }
    },
    {
      "cell_type": "code",
      "source": [
        "now1 = datetime.now()\n",
        "print(now1)\n",
        "\n",
        "now2 = datetime.now()\n",
        "print(now2)"
      ],
      "metadata": {
        "colab": {
          "base_uri": "https://localhost:8080/"
        },
        "id": "JomfKhvWCslh",
        "outputId": "3c502909-4668-4386-cc0e-9983c00d0023"
      },
      "execution_count": 2,
      "outputs": [
        {
          "output_type": "stream",
          "name": "stdout",
          "text": [
            "2023-04-05 06:12:29.395332\n",
            "2023-04-05 06:12:29.395841\n"
          ]
        }
      ]
    },
    {
      "cell_type": "markdown",
      "source": [
        "3. datetime 오브젝트를 생성할 때 시간을 직접 입력하여 인자로 전달한 것"
      ],
      "metadata": {
        "id": "nwBlUoVeC7Ge"
      }
    },
    {
      "cell_type": "code",
      "source": [
        "t1 = datetime.now()\n",
        "t2 = datetime(1970,1,1)\n",
        "t3 = datetime(1970,12,12,13,24,34)\n",
        "\n",
        "print(t1)\n",
        "print(t2)\n",
        "print(t3)"
      ],
      "metadata": {
        "colab": {
          "base_uri": "https://localhost:8080/"
        },
        "id": "WxUOHibwDA9z",
        "outputId": "0c4c347f-743e-43d2-adb6-1270571abf2c"
      },
      "execution_count": 4,
      "outputs": [
        {
          "output_type": "stream",
          "name": "stdout",
          "text": [
            "2023-04-05 06:13:37.287481\n",
            "1970-01-01 00:00:00\n",
            "1970-12-12 13:24:34\n"
          ]
        }
      ]
    },
    {
      "cell_type": "markdown",
      "source": [
        "4. 두 datetime 오브젝트의 차이를 구한 것(시간계산)"
      ],
      "metadata": {
        "id": "4wtidQCADLmI"
      }
    },
    {
      "cell_type": "code",
      "source": [
        "diff1 = t1-t2\n",
        "print(diff1)\n",
        "print(type(diff1))\n",
        "\n",
        "diff2 = t2-t1\n",
        "print(diff2)\n",
        "print(type(diff2))"
      ],
      "metadata": {
        "colab": {
          "base_uri": "https://localhost:8080/"
        },
        "id": "0e9HG654DPVV",
        "outputId": "30e98bae-1ade-4191-f4c4-039c1de85936"
      },
      "execution_count": 5,
      "outputs": [
        {
          "output_type": "stream",
          "name": "stdout",
          "text": [
            "19452 days, 6:13:37.287481\n",
            "<class 'datetime.timedelta'>\n",
            "-19453 days, 17:46:22.712519\n",
            "<class 'datetime.timedelta'>\n"
          ]
        }
      ]
    },
    {
      "cell_type": "markdown",
      "source": [
        "##12-2. 사례별 시계열 데이터 계산하기"
      ],
      "metadata": {
        "id": "IuuPd4CyDh7Q"
      }
    },
    {
      "cell_type": "markdown",
      "source": [
        "### 테슬라 주식 데이터로 시간 계산하기"
      ],
      "metadata": {
        "id": "WUNtvgTgDoHQ"
      }
    },
    {
      "cell_type": "markdown",
      "source": [
        "1. get_data_quanal 메서드에 TSLA라는 문자열을 전달하여 테슬라의 주식 데이터를 내려받은 다음 to_csv 메서드를 사용하여 data 폴더 안에 'tesla_stock_quandl.csv'라는 이름으로 저장"
      ],
      "metadata": {
        "id": "1s0HMbtEDqxA"
      }
    },
    {
      "cell_type": "code",
      "source": [
        "pip install pandas-datareader"
      ],
      "metadata": {
        "colab": {
          "base_uri": "https://localhost:8080/"
        },
        "id": "aOGezUOZLOuh",
        "outputId": "e863e2ec-ff2c-4197-fb58-3be7d6062313"
      },
      "execution_count": 10,
      "outputs": [
        {
          "output_type": "stream",
          "name": "stdout",
          "text": [
            "Looking in indexes: https://pypi.org/simple, https://us-python.pkg.dev/colab-wheels/public/simple/\n",
            "Requirement already satisfied: pandas-datareader in /usr/local/lib/python3.9/dist-packages (0.10.0)\n",
            "Requirement already satisfied: pandas>=0.23 in /usr/local/lib/python3.9/dist-packages (from pandas-datareader) (1.4.4)\n",
            "Requirement already satisfied: requests>=2.19.0 in /usr/local/lib/python3.9/dist-packages (from pandas-datareader) (2.27.1)\n",
            "Requirement already satisfied: lxml in /usr/local/lib/python3.9/dist-packages (from pandas-datareader) (4.9.2)\n",
            "Requirement already satisfied: pytz>=2020.1 in /usr/local/lib/python3.9/dist-packages (from pandas>=0.23->pandas-datareader) (2022.7.1)\n",
            "Requirement already satisfied: numpy>=1.18.5 in /usr/local/lib/python3.9/dist-packages (from pandas>=0.23->pandas-datareader) (1.22.4)\n",
            "Requirement already satisfied: python-dateutil>=2.8.1 in /usr/local/lib/python3.9/dist-packages (from pandas>=0.23->pandas-datareader) (2.8.2)\n",
            "Requirement already satisfied: urllib3<1.27,>=1.21.1 in /usr/local/lib/python3.9/dist-packages (from requests>=2.19.0->pandas-datareader) (1.26.15)\n",
            "Requirement already satisfied: idna<4,>=2.5 in /usr/local/lib/python3.9/dist-packages (from requests>=2.19.0->pandas-datareader) (3.4)\n",
            "Requirement already satisfied: certifi>=2017.4.17 in /usr/local/lib/python3.9/dist-packages (from requests>=2.19.0->pandas-datareader) (2022.12.7)\n",
            "Requirement already satisfied: charset-normalizer~=2.0.0 in /usr/local/lib/python3.9/dist-packages (from requests>=2.19.0->pandas-datareader) (2.0.12)\n",
            "Requirement already satisfied: six>=1.5 in /usr/local/lib/python3.9/dist-packages (from python-dateutil>=2.8.1->pandas>=0.23->pandas-datareader) (1.16.0)\n"
          ]
        }
      ]
    },
    {
      "cell_type": "code",
      "source": [
        "from google.colab import drive\n",
        "drive.mount('/content/mydrive')"
      ],
      "metadata": {
        "colab": {
          "base_uri": "https://localhost:8080/"
        },
        "id": "ZYfDrGc8FGUT",
        "outputId": "2dd67574-233a-4681-a84c-87a4cf22fa1b"
      },
      "execution_count": 8,
      "outputs": [
        {
          "output_type": "stream",
          "name": "stdout",
          "text": [
            "Mounted at /content/mydrive\n"
          ]
        }
      ]
    },
    {
      "cell_type": "code",
      "source": [
        "import pandas as pd\n",
        "\n",
        "pd.core.common.is_list_like = pd.api.types.is_list_like\n",
        "import pandas_datareader as pdr\n",
        "\n",
        "#tesla에는 데이터프레임이 저장됨\n",
        "tesla = pdr.get_data_quandl('TSLA',api_key = 'kzREW3axFfD4zwGKzR2D')\n",
        "#tesla에 저장된 데이터프레임을 파일로 저장함\n",
        "tesla.to_csv('/content/drive/MyDrive/Colab_Notebooks/학회/데이터/tesla_stock_quandl.csv')\n",
        "#이 방식으로 하면 빈 tesla 데이터 프레임이 생성되므로 그냥 tesla csv를 읽어준다다"
      ],
      "metadata": {
        "id": "B6YmRzqRMLba"
      },
      "execution_count": 18,
      "outputs": []
    },
    {
      "cell_type": "code",
      "source": [
        "tesla = pd.read_csv('/content/drive/MyDrive/Colab_Notebooks/학회/데이터/tesla_stock_quandl.csv')"
      ],
      "metadata": {
        "id": "UOUVxx8yOpcr"
      },
      "execution_count": 23,
      "outputs": []
    },
    {
      "cell_type": "markdown",
      "source": [
        "2. datetime 오브젝트로 자료형을 변환하기"
      ],
      "metadata": {
        "id": "kPQAJOBANt7g"
      }
    },
    {
      "cell_type": "code",
      "source": [
        "tesla.head()"
      ],
      "metadata": {
        "colab": {
          "base_uri": "https://localhost:8080/",
          "height": 357
        },
        "id": "q1aR2K5GN4wm",
        "outputId": "d659f087-e225-4f73-f6bd-469c14f5c0c0"
      },
      "execution_count": 24,
      "outputs": [
        {
          "output_type": "execute_result",
          "data": {
            "text/plain": [
              "         Date    Open    High     Low   Close      Volume  ExDividend  \\\n",
              "0  2018-03-27  304.00  304.27  277.18  279.18  13696168.0         0.0   \n",
              "1  2018-03-26  307.34  307.59  291.36  304.18   8324639.0         0.0   \n",
              "2  2018-03-23  311.25  311.61  300.45  301.54   6600538.0         0.0   \n",
              "3  2018-03-22  313.89  318.82  308.18  309.10   4914307.0         0.0   \n",
              "4  2018-03-21  310.25  322.44  310.19  316.53   5927881.0         0.0   \n",
              "\n",
              "   SplitRatio  AdjOpen  AdjHigh  AdjLow  AdjClose   AdjVolume  \n",
              "0         1.0   304.00   304.27  277.18    279.18  13696168.0  \n",
              "1         1.0   307.34   307.59  291.36    304.18   8324639.0  \n",
              "2         1.0   311.25   311.61  300.45    301.54   6600538.0  \n",
              "3         1.0   313.89   318.82  308.18    309.10   4914307.0  \n",
              "4         1.0   310.25   322.44  310.19    316.53   5927881.0  "
            ],
            "text/html": [
              "\n",
              "  <div id=\"df-7b16c25a-29a4-4274-835a-33f096240556\">\n",
              "    <div class=\"colab-df-container\">\n",
              "      <div>\n",
              "<style scoped>\n",
              "    .dataframe tbody tr th:only-of-type {\n",
              "        vertical-align: middle;\n",
              "    }\n",
              "\n",
              "    .dataframe tbody tr th {\n",
              "        vertical-align: top;\n",
              "    }\n",
              "\n",
              "    .dataframe thead th {\n",
              "        text-align: right;\n",
              "    }\n",
              "</style>\n",
              "<table border=\"1\" class=\"dataframe\">\n",
              "  <thead>\n",
              "    <tr style=\"text-align: right;\">\n",
              "      <th></th>\n",
              "      <th>Date</th>\n",
              "      <th>Open</th>\n",
              "      <th>High</th>\n",
              "      <th>Low</th>\n",
              "      <th>Close</th>\n",
              "      <th>Volume</th>\n",
              "      <th>ExDividend</th>\n",
              "      <th>SplitRatio</th>\n",
              "      <th>AdjOpen</th>\n",
              "      <th>AdjHigh</th>\n",
              "      <th>AdjLow</th>\n",
              "      <th>AdjClose</th>\n",
              "      <th>AdjVolume</th>\n",
              "    </tr>\n",
              "  </thead>\n",
              "  <tbody>\n",
              "    <tr>\n",
              "      <th>0</th>\n",
              "      <td>2018-03-27</td>\n",
              "      <td>304.00</td>\n",
              "      <td>304.27</td>\n",
              "      <td>277.18</td>\n",
              "      <td>279.18</td>\n",
              "      <td>13696168.0</td>\n",
              "      <td>0.0</td>\n",
              "      <td>1.0</td>\n",
              "      <td>304.00</td>\n",
              "      <td>304.27</td>\n",
              "      <td>277.18</td>\n",
              "      <td>279.18</td>\n",
              "      <td>13696168.0</td>\n",
              "    </tr>\n",
              "    <tr>\n",
              "      <th>1</th>\n",
              "      <td>2018-03-26</td>\n",
              "      <td>307.34</td>\n",
              "      <td>307.59</td>\n",
              "      <td>291.36</td>\n",
              "      <td>304.18</td>\n",
              "      <td>8324639.0</td>\n",
              "      <td>0.0</td>\n",
              "      <td>1.0</td>\n",
              "      <td>307.34</td>\n",
              "      <td>307.59</td>\n",
              "      <td>291.36</td>\n",
              "      <td>304.18</td>\n",
              "      <td>8324639.0</td>\n",
              "    </tr>\n",
              "    <tr>\n",
              "      <th>2</th>\n",
              "      <td>2018-03-23</td>\n",
              "      <td>311.25</td>\n",
              "      <td>311.61</td>\n",
              "      <td>300.45</td>\n",
              "      <td>301.54</td>\n",
              "      <td>6600538.0</td>\n",
              "      <td>0.0</td>\n",
              "      <td>1.0</td>\n",
              "      <td>311.25</td>\n",
              "      <td>311.61</td>\n",
              "      <td>300.45</td>\n",
              "      <td>301.54</td>\n",
              "      <td>6600538.0</td>\n",
              "    </tr>\n",
              "    <tr>\n",
              "      <th>3</th>\n",
              "      <td>2018-03-22</td>\n",
              "      <td>313.89</td>\n",
              "      <td>318.82</td>\n",
              "      <td>308.18</td>\n",
              "      <td>309.10</td>\n",
              "      <td>4914307.0</td>\n",
              "      <td>0.0</td>\n",
              "      <td>1.0</td>\n",
              "      <td>313.89</td>\n",
              "      <td>318.82</td>\n",
              "      <td>308.18</td>\n",
              "      <td>309.10</td>\n",
              "      <td>4914307.0</td>\n",
              "    </tr>\n",
              "    <tr>\n",
              "      <th>4</th>\n",
              "      <td>2018-03-21</td>\n",
              "      <td>310.25</td>\n",
              "      <td>322.44</td>\n",
              "      <td>310.19</td>\n",
              "      <td>316.53</td>\n",
              "      <td>5927881.0</td>\n",
              "      <td>0.0</td>\n",
              "      <td>1.0</td>\n",
              "      <td>310.25</td>\n",
              "      <td>322.44</td>\n",
              "      <td>310.19</td>\n",
              "      <td>316.53</td>\n",
              "      <td>5927881.0</td>\n",
              "    </tr>\n",
              "  </tbody>\n",
              "</table>\n",
              "</div>\n",
              "      <button class=\"colab-df-convert\" onclick=\"convertToInteractive('df-7b16c25a-29a4-4274-835a-33f096240556')\"\n",
              "              title=\"Convert this dataframe to an interactive table.\"\n",
              "              style=\"display:none;\">\n",
              "        \n",
              "  <svg xmlns=\"http://www.w3.org/2000/svg\" height=\"24px\"viewBox=\"0 0 24 24\"\n",
              "       width=\"24px\">\n",
              "    <path d=\"M0 0h24v24H0V0z\" fill=\"none\"/>\n",
              "    <path d=\"M18.56 5.44l.94 2.06.94-2.06 2.06-.94-2.06-.94-.94-2.06-.94 2.06-2.06.94zm-11 1L8.5 8.5l.94-2.06 2.06-.94-2.06-.94L8.5 2.5l-.94 2.06-2.06.94zm10 10l.94 2.06.94-2.06 2.06-.94-2.06-.94-.94-2.06-.94 2.06-2.06.94z\"/><path d=\"M17.41 7.96l-1.37-1.37c-.4-.4-.92-.59-1.43-.59-.52 0-1.04.2-1.43.59L10.3 9.45l-7.72 7.72c-.78.78-.78 2.05 0 2.83L4 21.41c.39.39.9.59 1.41.59.51 0 1.02-.2 1.41-.59l7.78-7.78 2.81-2.81c.8-.78.8-2.07 0-2.86zM5.41 20L4 18.59l7.72-7.72 1.47 1.35L5.41 20z\"/>\n",
              "  </svg>\n",
              "      </button>\n",
              "      \n",
              "  <style>\n",
              "    .colab-df-container {\n",
              "      display:flex;\n",
              "      flex-wrap:wrap;\n",
              "      gap: 12px;\n",
              "    }\n",
              "\n",
              "    .colab-df-convert {\n",
              "      background-color: #E8F0FE;\n",
              "      border: none;\n",
              "      border-radius: 50%;\n",
              "      cursor: pointer;\n",
              "      display: none;\n",
              "      fill: #1967D2;\n",
              "      height: 32px;\n",
              "      padding: 0 0 0 0;\n",
              "      width: 32px;\n",
              "    }\n",
              "\n",
              "    .colab-df-convert:hover {\n",
              "      background-color: #E2EBFA;\n",
              "      box-shadow: 0px 1px 2px rgba(60, 64, 67, 0.3), 0px 1px 3px 1px rgba(60, 64, 67, 0.15);\n",
              "      fill: #174EA6;\n",
              "    }\n",
              "\n",
              "    [theme=dark] .colab-df-convert {\n",
              "      background-color: #3B4455;\n",
              "      fill: #D2E3FC;\n",
              "    }\n",
              "\n",
              "    [theme=dark] .colab-df-convert:hover {\n",
              "      background-color: #434B5C;\n",
              "      box-shadow: 0px 1px 3px 1px rgba(0, 0, 0, 0.15);\n",
              "      filter: drop-shadow(0px 1px 2px rgba(0, 0, 0, 0.3));\n",
              "      fill: #FFFFFF;\n",
              "    }\n",
              "  </style>\n",
              "\n",
              "      <script>\n",
              "        const buttonEl =\n",
              "          document.querySelector('#df-7b16c25a-29a4-4274-835a-33f096240556 button.colab-df-convert');\n",
              "        buttonEl.style.display =\n",
              "          google.colab.kernel.accessAllowed ? 'block' : 'none';\n",
              "\n",
              "        async function convertToInteractive(key) {\n",
              "          const element = document.querySelector('#df-7b16c25a-29a4-4274-835a-33f096240556');\n",
              "          const dataTable =\n",
              "            await google.colab.kernel.invokeFunction('convertToInteractive',\n",
              "                                                     [key], {});\n",
              "          if (!dataTable) return;\n",
              "\n",
              "          const docLinkHtml = 'Like what you see? Visit the ' +\n",
              "            '<a target=\"_blank\" href=https://colab.research.google.com/notebooks/data_table.ipynb>data table notebook</a>'\n",
              "            + ' to learn more about interactive tables.';\n",
              "          element.innerHTML = '';\n",
              "          dataTable['output_type'] = 'display_data';\n",
              "          await google.colab.output.renderOutput(dataTable, element);\n",
              "          const docLink = document.createElement('div');\n",
              "          docLink.innerHTML = docLinkHtml;\n",
              "          element.appendChild(docLink);\n",
              "        }\n",
              "      </script>\n",
              "    </div>\n",
              "  </div>\n",
              "  "
            ]
          },
          "metadata": {},
          "execution_count": 24
        }
      ]
    },
    {
      "cell_type": "markdown",
      "source": [
        "3. Date 열을 Datetime 형으로 변환하려면 read_csv 메서드로 데이터 집합을 불러올 때 parse_dates 인자에 Date 열을 전달하면 됨"
      ],
      "metadata": {
        "id": "VvOQjQVYPDbE"
      }
    },
    {
      "cell_type": "code",
      "source": [
        "tesla = pd.read_csv('/content/drive/MyDrive/Colab_Notebooks/학회/데이터/tesla_stock_quandl.csv',\n",
        "                    parse_dates=[0])\n",
        "print(tesla.info())"
      ],
      "metadata": {
        "colab": {
          "base_uri": "https://localhost:8080/"
        },
        "id": "AD5W4qPTPJp8",
        "outputId": "f8c89cc6-9c51-43b4-f067-b7c93c07ddb9"
      },
      "execution_count": 25,
      "outputs": [
        {
          "output_type": "stream",
          "name": "stdout",
          "text": [
            "<class 'pandas.core.frame.DataFrame'>\n",
            "RangeIndex: 1949 entries, 0 to 1948\n",
            "Data columns (total 13 columns):\n",
            " #   Column      Non-Null Count  Dtype         \n",
            "---  ------      --------------  -----         \n",
            " 0   Date        1949 non-null   datetime64[ns]\n",
            " 1   Open        1949 non-null   float64       \n",
            " 2   High        1949 non-null   float64       \n",
            " 3   Low         1949 non-null   float64       \n",
            " 4   Close       1949 non-null   float64       \n",
            " 5   Volume      1949 non-null   float64       \n",
            " 6   ExDividend  1949 non-null   float64       \n",
            " 7   SplitRatio  1949 non-null   float64       \n",
            " 8   AdjOpen     1949 non-null   float64       \n",
            " 9   AdjHigh     1949 non-null   float64       \n",
            " 10  AdjLow      1949 non-null   float64       \n",
            " 11  AdjClose    1949 non-null   float64       \n",
            " 12  AdjVolume   1949 non-null   float64       \n",
            "dtypes: datetime64[ns](1), float64(12)\n",
            "memory usage: 198.1 KB\n",
            "None\n"
          ]
        }
      ]
    },
    {
      "cell_type": "markdown",
      "source": [
        "4. Date 열의 자료형이 datetime 오브젝트로 변환됨. 이제 dt 접근자를 사용할 수 있음"
      ],
      "metadata": {
        "id": "bR1PZplWPRxs"
      }
    },
    {
      "cell_type": "code",
      "source": [
        "#불린 추출로 2010년 6월의 데이터 추출\n",
        "print(tesla.loc[(tesla.Date.dt.year==2010) & (tesla.Date.dt.month==6)])"
      ],
      "metadata": {
        "colab": {
          "base_uri": "https://localhost:8080/"
        },
        "id": "Xcf1Pe6dPklF",
        "outputId": "ab0affb5-8639-4324-a608-8efdb8f2c02f"
      },
      "execution_count": 27,
      "outputs": [
        {
          "output_type": "stream",
          "name": "stdout",
          "text": [
            "           Date   Open     High    Low  Close      Volume  ExDividend  \\\n",
            "1947 2010-06-30  25.79  30.4192  23.30  23.83  17187100.0         0.0   \n",
            "1948 2010-06-29  19.00  25.0000  17.54  23.89  18766300.0         0.0   \n",
            "\n",
            "      SplitRatio  AdjOpen  AdjHigh  AdjLow  AdjClose   AdjVolume  \n",
            "1947         1.0    25.79  30.4192   23.30     23.83  17187100.0  \n",
            "1948         1.0    19.00  25.0000   17.54     23.89  18766300.0  \n"
          ]
        }
      ]
    },
    {
      "cell_type": "markdown",
      "source": [
        "###datetime 오브젝트와 인덱스 - Datetimeindex\n",
        "datetime 오브젝트를 데이터프레임의 인덱스로 설정하면 원하는 시간의 데이터를 바로 추출할 수 있음"
      ],
      "metadata": {
        "id": "4HqC3rfBS2Y8"
      }
    },
    {
      "cell_type": "markdown",
      "source": [
        "###datetime 오브젝트를 인덱스로 설정해 데이터 추출하기"
      ],
      "metadata": {
        "id": "ukQMbAw8Pu8G"
      }
    },
    {
      "cell_type": "markdown",
      "source": [
        "1. Date 열을 tesla 데이터프레임의 인덱스로 지정하기"
      ],
      "metadata": {
        "id": "env_EQ2QPzGt"
      }
    },
    {
      "cell_type": "code",
      "source": [
        "tesla.index = tesla['Date']\n",
        "print(tesla.index)"
      ],
      "metadata": {
        "colab": {
          "base_uri": "https://localhost:8080/"
        },
        "id": "EXyj2WyjPksY",
        "outputId": "94ad073f-dc0c-49d0-8f35-fd4fdcad2bcf"
      },
      "execution_count": 28,
      "outputs": [
        {
          "output_type": "stream",
          "name": "stdout",
          "text": [
            "DatetimeIndex(['2018-03-27', '2018-03-26', '2018-03-23', '2018-03-22',\n",
            "               '2018-03-21', '2018-03-20', '2018-03-19', '2018-03-16',\n",
            "               '2018-03-15', '2018-03-14',\n",
            "               ...\n",
            "               '2010-07-13', '2010-07-12', '2010-07-09', '2010-07-08',\n",
            "               '2010-07-07', '2010-07-06', '2010-07-02', '2010-07-01',\n",
            "               '2010-06-30', '2010-06-29'],\n",
            "              dtype='datetime64[ns]', name='Date', length=1949, freq=None)\n"
          ]
        }
      ]
    },
    {
      "cell_type": "markdown",
      "source": [
        "2. datetime 오브젝트를 인덱스로 지정하면 다음과 같이 원하는 시간의 데이터를 바로 추출 가능함"
      ],
      "metadata": {
        "id": "6Xe482LNP7C6"
      }
    },
    {
      "cell_type": "code",
      "source": [
        "#2015년의 데이터 추출\n",
        "print(tesla['2015'].iloc[:5,:5])"
      ],
      "metadata": {
        "colab": {
          "base_uri": "https://localhost:8080/"
        },
        "id": "odESCprHQG68",
        "outputId": "90aed819-2a7e-4bb0-f83a-6ca0f634e0fa"
      },
      "execution_count": 29,
      "outputs": [
        {
          "output_type": "stream",
          "name": "stdout",
          "text": [
            "                 Date    Open     High       Low   Close\n",
            "Date                                                    \n",
            "2015-12-31 2015-12-31  238.51  243.450  238.3700  240.01\n",
            "2015-12-30 2015-12-30  236.60  243.634  235.6707  238.09\n",
            "2015-12-29 2015-12-29  230.06  237.720  229.5470  237.19\n",
            "2015-12-28 2015-12-28  231.49  231.980  225.5400  228.95\n",
            "2015-12-24 2015-12-24  230.56  231.880  228.2800  230.57\n"
          ]
        },
        {
          "output_type": "stream",
          "name": "stderr",
          "text": [
            "<ipython-input-29-d8dc0a938de1>:2: FutureWarning: Indexing a DataFrame with a datetimelike index using a single string to slice the rows, like `frame[string]`, is deprecated and will be removed in a future version. Use `frame.loc[string]` instead.\n",
            "  print(tesla['2015'].iloc[:5,:5])\n"
          ]
        }
      ]
    },
    {
      "cell_type": "code",
      "source": [
        "#2010년 6월의 데이터 추출\n",
        "print(tesla['2010-06'].iloc[:,:5])"
      ],
      "metadata": {
        "colab": {
          "base_uri": "https://localhost:8080/"
        },
        "id": "05coqcCtQM_u",
        "outputId": "96f8703f-adec-4636-a11d-6e0bcf912b88"
      },
      "execution_count": 30,
      "outputs": [
        {
          "output_type": "stream",
          "name": "stdout",
          "text": [
            "                 Date   Open     High    Low  Close\n",
            "Date                                               \n",
            "2010-06-30 2010-06-30  25.79  30.4192  23.30  23.83\n",
            "2010-06-29 2010-06-29  19.00  25.0000  17.54  23.89\n"
          ]
        },
        {
          "output_type": "stream",
          "name": "stderr",
          "text": [
            "<ipython-input-30-ba0fdeadcb68>:2: FutureWarning: Indexing a DataFrame with a datetimelike index using a single string to slice the rows, like `frame[string]`, is deprecated and will be removed in a future version. Use `frame.loc[string]` instead.\n",
            "  print(tesla['2010-06'].iloc[:,:5])\n"
          ]
        }
      ]
    },
    {
      "cell_type": "markdown",
      "source": [
        "###시간 간격과 인덱스 - TimedeltaIndex\n",
        "datetime 오브젝트를 인덱스로 지정하는 것이 아니라 시간 간격을 인덱스로 지정하여 진행 -> 주식 데이터에서 최초 5일간 수집된 데이터만 살펴볼 수 있음"
      ],
      "metadata": {
        "id": "DqcDnuOPTAmt"
      }
    },
    {
      "cell_type": "markdown",
      "source": [
        "### 시간 간격을 인덱스로 지정해 데이터 추출하기"
      ],
      "metadata": {
        "id": "AYiS4LXSQSfU"
      }
    },
    {
      "cell_type": "markdown",
      "source": [
        "1. Date 열에서 Date 열의 최솟값을 빼면 데이터를 수집한 후에 시간이 얼마나 흘렀는지 확인 가능함"
      ],
      "metadata": {
        "id": "f2O3jK5aQaHe"
      }
    },
    {
      "cell_type": "code",
      "source": [
        "#Date 열에서 Date 열의 최솟값을 뺀 다음 ref_date열로 추가\n",
        "tesla['ref_date'] = tesla['Date']-tesla['Date'].min()\n",
        "tesla.head()"
      ],
      "metadata": {
        "colab": {
          "base_uri": "https://localhost:8080/",
          "height": 388
        },
        "id": "2p2xo1woQVKV",
        "outputId": "c9e3471d-dd26-42f1-b452-0093de6b6c49"
      },
      "execution_count": 31,
      "outputs": [
        {
          "output_type": "execute_result",
          "data": {
            "text/plain": [
              "                 Date    Open    High     Low   Close      Volume  ExDividend  \\\n",
              "Date                                                                            \n",
              "2018-03-27 2018-03-27  304.00  304.27  277.18  279.18  13696168.0         0.0   \n",
              "2018-03-26 2018-03-26  307.34  307.59  291.36  304.18   8324639.0         0.0   \n",
              "2018-03-23 2018-03-23  311.25  311.61  300.45  301.54   6600538.0         0.0   \n",
              "2018-03-22 2018-03-22  313.89  318.82  308.18  309.10   4914307.0         0.0   \n",
              "2018-03-21 2018-03-21  310.25  322.44  310.19  316.53   5927881.0         0.0   \n",
              "\n",
              "            SplitRatio  AdjOpen  AdjHigh  AdjLow  AdjClose   AdjVolume  \\\n",
              "Date                                                                     \n",
              "2018-03-27         1.0   304.00   304.27  277.18    279.18  13696168.0   \n",
              "2018-03-26         1.0   307.34   307.59  291.36    304.18   8324639.0   \n",
              "2018-03-23         1.0   311.25   311.61  300.45    301.54   6600538.0   \n",
              "2018-03-22         1.0   313.89   318.82  308.18    309.10   4914307.0   \n",
              "2018-03-21         1.0   310.25   322.44  310.19    316.53   5927881.0   \n",
              "\n",
              "            ref_date  \n",
              "Date                  \n",
              "2018-03-27 2828 days  \n",
              "2018-03-26 2827 days  \n",
              "2018-03-23 2824 days  \n",
              "2018-03-22 2823 days  \n",
              "2018-03-21 2822 days  "
            ],
            "text/html": [
              "\n",
              "  <div id=\"df-ab3fe3af-0845-493b-b4e2-f78868cf4a93\">\n",
              "    <div class=\"colab-df-container\">\n",
              "      <div>\n",
              "<style scoped>\n",
              "    .dataframe tbody tr th:only-of-type {\n",
              "        vertical-align: middle;\n",
              "    }\n",
              "\n",
              "    .dataframe tbody tr th {\n",
              "        vertical-align: top;\n",
              "    }\n",
              "\n",
              "    .dataframe thead th {\n",
              "        text-align: right;\n",
              "    }\n",
              "</style>\n",
              "<table border=\"1\" class=\"dataframe\">\n",
              "  <thead>\n",
              "    <tr style=\"text-align: right;\">\n",
              "      <th></th>\n",
              "      <th>Date</th>\n",
              "      <th>Open</th>\n",
              "      <th>High</th>\n",
              "      <th>Low</th>\n",
              "      <th>Close</th>\n",
              "      <th>Volume</th>\n",
              "      <th>ExDividend</th>\n",
              "      <th>SplitRatio</th>\n",
              "      <th>AdjOpen</th>\n",
              "      <th>AdjHigh</th>\n",
              "      <th>AdjLow</th>\n",
              "      <th>AdjClose</th>\n",
              "      <th>AdjVolume</th>\n",
              "      <th>ref_date</th>\n",
              "    </tr>\n",
              "    <tr>\n",
              "      <th>Date</th>\n",
              "      <th></th>\n",
              "      <th></th>\n",
              "      <th></th>\n",
              "      <th></th>\n",
              "      <th></th>\n",
              "      <th></th>\n",
              "      <th></th>\n",
              "      <th></th>\n",
              "      <th></th>\n",
              "      <th></th>\n",
              "      <th></th>\n",
              "      <th></th>\n",
              "      <th></th>\n",
              "      <th></th>\n",
              "    </tr>\n",
              "  </thead>\n",
              "  <tbody>\n",
              "    <tr>\n",
              "      <th>2018-03-27</th>\n",
              "      <td>2018-03-27</td>\n",
              "      <td>304.00</td>\n",
              "      <td>304.27</td>\n",
              "      <td>277.18</td>\n",
              "      <td>279.18</td>\n",
              "      <td>13696168.0</td>\n",
              "      <td>0.0</td>\n",
              "      <td>1.0</td>\n",
              "      <td>304.00</td>\n",
              "      <td>304.27</td>\n",
              "      <td>277.18</td>\n",
              "      <td>279.18</td>\n",
              "      <td>13696168.0</td>\n",
              "      <td>2828 days</td>\n",
              "    </tr>\n",
              "    <tr>\n",
              "      <th>2018-03-26</th>\n",
              "      <td>2018-03-26</td>\n",
              "      <td>307.34</td>\n",
              "      <td>307.59</td>\n",
              "      <td>291.36</td>\n",
              "      <td>304.18</td>\n",
              "      <td>8324639.0</td>\n",
              "      <td>0.0</td>\n",
              "      <td>1.0</td>\n",
              "      <td>307.34</td>\n",
              "      <td>307.59</td>\n",
              "      <td>291.36</td>\n",
              "      <td>304.18</td>\n",
              "      <td>8324639.0</td>\n",
              "      <td>2827 days</td>\n",
              "    </tr>\n",
              "    <tr>\n",
              "      <th>2018-03-23</th>\n",
              "      <td>2018-03-23</td>\n",
              "      <td>311.25</td>\n",
              "      <td>311.61</td>\n",
              "      <td>300.45</td>\n",
              "      <td>301.54</td>\n",
              "      <td>6600538.0</td>\n",
              "      <td>0.0</td>\n",
              "      <td>1.0</td>\n",
              "      <td>311.25</td>\n",
              "      <td>311.61</td>\n",
              "      <td>300.45</td>\n",
              "      <td>301.54</td>\n",
              "      <td>6600538.0</td>\n",
              "      <td>2824 days</td>\n",
              "    </tr>\n",
              "    <tr>\n",
              "      <th>2018-03-22</th>\n",
              "      <td>2018-03-22</td>\n",
              "      <td>313.89</td>\n",
              "      <td>318.82</td>\n",
              "      <td>308.18</td>\n",
              "      <td>309.10</td>\n",
              "      <td>4914307.0</td>\n",
              "      <td>0.0</td>\n",
              "      <td>1.0</td>\n",
              "      <td>313.89</td>\n",
              "      <td>318.82</td>\n",
              "      <td>308.18</td>\n",
              "      <td>309.10</td>\n",
              "      <td>4914307.0</td>\n",
              "      <td>2823 days</td>\n",
              "    </tr>\n",
              "    <tr>\n",
              "      <th>2018-03-21</th>\n",
              "      <td>2018-03-21</td>\n",
              "      <td>310.25</td>\n",
              "      <td>322.44</td>\n",
              "      <td>310.19</td>\n",
              "      <td>316.53</td>\n",
              "      <td>5927881.0</td>\n",
              "      <td>0.0</td>\n",
              "      <td>1.0</td>\n",
              "      <td>310.25</td>\n",
              "      <td>322.44</td>\n",
              "      <td>310.19</td>\n",
              "      <td>316.53</td>\n",
              "      <td>5927881.0</td>\n",
              "      <td>2822 days</td>\n",
              "    </tr>\n",
              "  </tbody>\n",
              "</table>\n",
              "</div>\n",
              "      <button class=\"colab-df-convert\" onclick=\"convertToInteractive('df-ab3fe3af-0845-493b-b4e2-f78868cf4a93')\"\n",
              "              title=\"Convert this dataframe to an interactive table.\"\n",
              "              style=\"display:none;\">\n",
              "        \n",
              "  <svg xmlns=\"http://www.w3.org/2000/svg\" height=\"24px\"viewBox=\"0 0 24 24\"\n",
              "       width=\"24px\">\n",
              "    <path d=\"M0 0h24v24H0V0z\" fill=\"none\"/>\n",
              "    <path d=\"M18.56 5.44l.94 2.06.94-2.06 2.06-.94-2.06-.94-.94-2.06-.94 2.06-2.06.94zm-11 1L8.5 8.5l.94-2.06 2.06-.94-2.06-.94L8.5 2.5l-.94 2.06-2.06.94zm10 10l.94 2.06.94-2.06 2.06-.94-2.06-.94-.94-2.06-.94 2.06-2.06.94z\"/><path d=\"M17.41 7.96l-1.37-1.37c-.4-.4-.92-.59-1.43-.59-.52 0-1.04.2-1.43.59L10.3 9.45l-7.72 7.72c-.78.78-.78 2.05 0 2.83L4 21.41c.39.39.9.59 1.41.59.51 0 1.02-.2 1.41-.59l7.78-7.78 2.81-2.81c.8-.78.8-2.07 0-2.86zM5.41 20L4 18.59l7.72-7.72 1.47 1.35L5.41 20z\"/>\n",
              "  </svg>\n",
              "      </button>\n",
              "      \n",
              "  <style>\n",
              "    .colab-df-container {\n",
              "      display:flex;\n",
              "      flex-wrap:wrap;\n",
              "      gap: 12px;\n",
              "    }\n",
              "\n",
              "    .colab-df-convert {\n",
              "      background-color: #E8F0FE;\n",
              "      border: none;\n",
              "      border-radius: 50%;\n",
              "      cursor: pointer;\n",
              "      display: none;\n",
              "      fill: #1967D2;\n",
              "      height: 32px;\n",
              "      padding: 0 0 0 0;\n",
              "      width: 32px;\n",
              "    }\n",
              "\n",
              "    .colab-df-convert:hover {\n",
              "      background-color: #E2EBFA;\n",
              "      box-shadow: 0px 1px 2px rgba(60, 64, 67, 0.3), 0px 1px 3px 1px rgba(60, 64, 67, 0.15);\n",
              "      fill: #174EA6;\n",
              "    }\n",
              "\n",
              "    [theme=dark] .colab-df-convert {\n",
              "      background-color: #3B4455;\n",
              "      fill: #D2E3FC;\n",
              "    }\n",
              "\n",
              "    [theme=dark] .colab-df-convert:hover {\n",
              "      background-color: #434B5C;\n",
              "      box-shadow: 0px 1px 3px 1px rgba(0, 0, 0, 0.15);\n",
              "      filter: drop-shadow(0px 1px 2px rgba(0, 0, 0, 0.3));\n",
              "      fill: #FFFFFF;\n",
              "    }\n",
              "  </style>\n",
              "\n",
              "      <script>\n",
              "        const buttonEl =\n",
              "          document.querySelector('#df-ab3fe3af-0845-493b-b4e2-f78868cf4a93 button.colab-df-convert');\n",
              "        buttonEl.style.display =\n",
              "          google.colab.kernel.accessAllowed ? 'block' : 'none';\n",
              "\n",
              "        async function convertToInteractive(key) {\n",
              "          const element = document.querySelector('#df-ab3fe3af-0845-493b-b4e2-f78868cf4a93');\n",
              "          const dataTable =\n",
              "            await google.colab.kernel.invokeFunction('convertToInteractive',\n",
              "                                                     [key], {});\n",
              "          if (!dataTable) return;\n",
              "\n",
              "          const docLinkHtml = 'Like what you see? Visit the ' +\n",
              "            '<a target=\"_blank\" href=https://colab.research.google.com/notebooks/data_table.ipynb>data table notebook</a>'\n",
              "            + ' to learn more about interactive tables.';\n",
              "          element.innerHTML = '';\n",
              "          dataTable['output_type'] = 'display_data';\n",
              "          await google.colab.output.renderOutput(dataTable, element);\n",
              "          const docLink = document.createElement('div');\n",
              "          docLink.innerHTML = docLinkHtml;\n",
              "          element.appendChild(docLink);\n",
              "        }\n",
              "      </script>\n",
              "    </div>\n",
              "  </div>\n",
              "  "
            ]
          },
          "metadata": {},
          "execution_count": 31
        }
      ]
    },
    {
      "cell_type": "markdown",
      "source": [
        "2. ref_date열을 인덱스로 지정함. 시간 간격(ref_date)을 이용하여 데이터 추출 가능함"
      ],
      "metadata": {
        "id": "0-chSfR2QmZ8"
      }
    },
    {
      "cell_type": "code",
      "source": [
        "tesla.index = tesla['ref_date']\n",
        "print(tesla.iloc[:5,:5])"
      ],
      "metadata": {
        "colab": {
          "base_uri": "https://localhost:8080/"
        },
        "id": "ynSicVswQsn5",
        "outputId": "2e045fe2-788c-41a5-9e9f-5fca6377ff39"
      },
      "execution_count": 33,
      "outputs": [
        {
          "output_type": "stream",
          "name": "stdout",
          "text": [
            "                Date    Open    High     Low   Close\n",
            "ref_date                                            \n",
            "2828 days 2018-03-27  304.00  304.27  277.18  279.18\n",
            "2827 days 2018-03-26  307.34  307.59  291.36  304.18\n",
            "2824 days 2018-03-23  311.25  311.61  300.45  301.54\n",
            "2823 days 2018-03-22  313.89  318.82  308.18  309.10\n",
            "2822 days 2018-03-21  310.25  322.44  310.19  316.53\n"
          ]
        }
      ]
    },
    {
      "cell_type": "markdown",
      "source": [
        "3. 데이터를 수집한 이후 최초 5일의 데이터 추출"
      ],
      "metadata": {
        "id": "gf0f06oiQ5OX"
      }
    },
    {
      "cell_type": "code",
      "source": [
        "print(tesla['5 days':].iloc[:5,:5])"
      ],
      "metadata": {
        "colab": {
          "base_uri": "https://localhost:8080/"
        },
        "id": "GDbxak3WQ7aJ",
        "outputId": "9324eeec-123c-4843-d067-1e8538fc85e3"
      },
      "execution_count": 34,
      "outputs": [
        {
          "output_type": "stream",
          "name": "stdout",
          "text": [
            "               Date   Open     High    Low  Close\n",
            "ref_date                                         \n",
            "3 days   2010-07-02  23.00  23.1000  18.71  19.20\n",
            "2 days   2010-07-01  25.00  25.9200  20.27  21.96\n",
            "1 days   2010-06-30  25.79  30.4192  23.30  23.83\n",
            "0 days   2010-06-29  19.00  25.0000  17.54  23.89\n"
          ]
        }
      ]
    },
    {
      "cell_type": "markdown",
      "source": [
        "###시간 범위와 인덱스\n",
        "특정일에 누락된 데이터를 포함시켜 데이터를 살펴보기 -> 임의로 시간 범위를 생성하여 인덱스로 지정"
      ],
      "metadata": {
        "id": "kdqsjWM8TM6K"
      }
    },
    {
      "cell_type": "markdown",
      "source": [
        "###시간 범위 생성해 인덱스로 지정하기"
      ],
      "metadata": {
        "id": "8soiEw96REoE"
      }
    },
    {
      "cell_type": "markdown",
      "source": [
        "1. 누락된 데이터가 있는 에볼라 데이터를 이용해보기"
      ],
      "metadata": {
        "id": "eG7dllhuTTK6"
      }
    },
    {
      "cell_type": "code",
      "source": [
        "ebola = pd.read_csv('/content/drive/MyDrive/Colab_Notebooks/학회/데이터/country_timeseries.csv')\n",
        "print(ebola.iloc[:5,:5])\n",
        "#2015년 1월 1일의 데이터가 누락됨"
      ],
      "metadata": {
        "colab": {
          "base_uri": "https://localhost:8080/"
        },
        "id": "ivutjNXrTXa_",
        "outputId": "6f5df7b8-6705-4305-e1cf-03e2d709e350"
      },
      "execution_count": 35,
      "outputs": [
        {
          "output_type": "stream",
          "name": "stdout",
          "text": [
            "         Date  Day  Cases_Guinea  Cases_Liberia  Cases_SierraLeone\n",
            "0    1/5/2015  289        2776.0            NaN            10030.0\n",
            "1    1/4/2015  288        2775.0            NaN             9780.0\n",
            "2    1/3/2015  287        2769.0         8166.0             9722.0\n",
            "3    1/2/2015  286           NaN         8157.0                NaN\n",
            "4  12/31/2014  284        2730.0         8115.0             9633.0\n"
          ]
        }
      ]
    },
    {
      "cell_type": "markdown",
      "source": [
        "2. 뒤쪽의 데이터도 살펴보기"
      ],
      "metadata": {
        "id": "zphWW2TyTWXD"
      }
    },
    {
      "cell_type": "code",
      "source": [
        "print(ebola.iloc[-5:,:5])\n",
        "#2014년 3월 23일의 데이터 누락됨"
      ],
      "metadata": {
        "colab": {
          "base_uri": "https://localhost:8080/"
        },
        "id": "rS-FmoIqTki3",
        "outputId": "5e1c33a1-8fa8-44c7-d5dc-31f8b9fb13b4"
      },
      "execution_count": 38,
      "outputs": [
        {
          "output_type": "stream",
          "name": "stdout",
          "text": [
            "          Date  Day  Cases_Guinea  Cases_Liberia  Cases_SierraLeone\n",
            "117  3/27/2014    5         103.0            8.0                6.0\n",
            "118  3/26/2014    4          86.0            NaN                NaN\n",
            "119  3/25/2014    3          86.0            NaN                NaN\n",
            "120  3/24/2014    2          86.0            NaN                NaN\n",
            "121  3/22/2014    0          49.0            NaN                NaN\n"
          ]
        }
      ]
    },
    {
      "cell_type": "markdown",
      "source": [
        "3. date_range 메서드 사용"
      ],
      "metadata": {
        "id": "OSAI1CGtTrup"
      }
    },
    {
      "cell_type": "code",
      "source": [
        "#2014년 12월 31일부터 2015년 1월 5일 사이의 시간 인덱스 생성\n",
        "head_range = pd.date_range(start='2014-12-31', end='2015-01-05')\n",
        "print(head_range)"
      ],
      "metadata": {
        "colab": {
          "base_uri": "https://localhost:8080/"
        },
        "id": "8C_QPu3VTuzi",
        "outputId": "d5080fde-03a4-4c3e-81e3-759e62409458"
      },
      "execution_count": 39,
      "outputs": [
        {
          "output_type": "stream",
          "name": "stdout",
          "text": [
            "DatetimeIndex(['2014-12-31', '2015-01-01', '2015-01-02', '2015-01-03',\n",
            "               '2015-01-04', '2015-01-05'],\n",
            "              dtype='datetime64[ns]', freq='D')\n"
          ]
        }
      ]
    },
    {
      "cell_type": "markdown",
      "source": [
        "4. 원본 데이터를 손상시키는 것을 방지하기 위해 ebola 데이터프레임의 앞쪽 5개의 데이터를 추출하여 새로운 데이터 프레임을 생성함. 이때 Date 열을 인덱스로 먼저 지정하지 않으면 오류가 발생함. 반드시! Date 열을 인덱스로 지정한 다음 과정 3에서 생성한 시간 범위를 인덱스로 지정해야 함."
      ],
      "metadata": {
        "id": "C5RhA7OGT4gZ"
      }
    },
    {
      "cell_type": "code",
      "source": [
        "ebola_5 = ebola.head()\n",
        "ebola_5.index = ebola_5['Date']\n",
        "ebola_5.reindex(head_range)\n",
        "print(ebola_5.iloc[:5,:5])"
      ],
      "metadata": {
        "colab": {
          "base_uri": "https://localhost:8080/"
        },
        "id": "0oQBhuwOUEG0",
        "outputId": "6b370d05-8454-4f73-cb96-47fe99dc6049"
      },
      "execution_count": 40,
      "outputs": [
        {
          "output_type": "stream",
          "name": "stdout",
          "text": [
            "                  Date  Day  Cases_Guinea  Cases_Liberia  Cases_SierraLeone\n",
            "Date                                                                       \n",
            "1/5/2015      1/5/2015  289        2776.0            NaN            10030.0\n",
            "1/4/2015      1/4/2015  288        2775.0            NaN             9780.0\n",
            "1/3/2015      1/3/2015  287        2769.0         8166.0             9722.0\n",
            "1/2/2015      1/2/2015  286           NaN         8157.0                NaN\n",
            "12/31/2014  12/31/2014  284        2730.0         8115.0             9633.0\n"
          ]
        }
      ]
    },
    {
      "cell_type": "markdown",
      "source": [
        "### 시간 범위의 주기 설정하기\n",
        "- 시간 범위를 인덱스로 지정하면 DatetimeIndex 자료형이 만들어짐\n",
        "- DatetimeIndex에는 freq 속성이 포함됨\n",
        "- freq 속성값을 지정하면 시간 간격을 조절하여 DatetimeIndex를 만들 수 있음"
      ],
      "metadata": {
        "id": "14wRylwnUQuC"
      }
    },
    {
      "cell_type": "markdown",
      "source": [
        "<freq 속성값으로 사용할 수 있는 시간 주기>\n",
        "1. B : 평일만 포함\n",
        "2. C : 사용자가 정의한 평일만 포함\n",
        "3. D : 달력 일자 단위\n",
        "4. W : 주간 단위\n",
        "5. M : 월 마지막 날만 포함\n",
        "6. SM : 15일과 월 마지막 날만 포함\n",
        "7. BM : M 주기의 값이 휴일이면 제외하고 평일만 포함\n",
        "8. CBM : BM에 사용자 정의 평일을 적용\n",
        "9. MS : 월 시작일만 포함\n",
        "10. SMS : 월 시작일과 15일만 포함\n",
        "11. BMS : MS 주기의 값이 휴일이면 제외하고 평일만 포함\n",
        "12. CBMS : BMS에 사용자 정의 평일을 적용\n",
        "13. Q : 3,6,9,12월 분기 마지막 날만 포함\n",
        "14. BQ : 3. 6, 9. 12월 분기 마지막 날이 휴일이이면 제외하고 평일만 포함\n",
        "15. QS : 3. 6, 9, 12월 분기 시작일만 포함\n",
        "16. BQS : 3, 6, 9, 12월 분기 시작일이 휴일이면 제외하고 평일만 포함\n",
        "17. A : 년의 마지막 날만 포함\n",
        "18. BA : 년의 마지막 날이 휴일이면면 제외하고 평일만 포함 \n",
        "19. AS : 년의 시작일만 포함\n",
        "20. BAS : 년의 시작일이 휴일이면 제외하고 평일만 포함 \n",
        "21. BH : 평일을 시간 단위로 포함(09：00 - 16：00)\n",
        "22. H : 시간 단위로 포함(00：00 - 00：00)\n",
        "23. T : 분 단위 포함\n",
        "24. S : 초 단위 포함\n",
        "25. L : 밀리초 단위 포함\n",
        "26. U : 마이크로초 단위 포함\n",
        "27. N : 나노초 단위 포함"
      ],
      "metadata": {
        "id": "-U3FWWd-UgXO"
      }
    },
    {
      "cell_type": "code",
      "source": [
        "#date_range 메서드의 freq 인잣값을 B로 설정하여 평일만 포함한 DatetimeIndex 만들기\n",
        "print(pd.date_range('2017-01-01','2017-01-07',freq='B'))"
      ],
      "metadata": {
        "colab": {
          "base_uri": "https://localhost:8080/"
        },
        "id": "as7N_OQlVpFT",
        "outputId": "a7fe5f82-1e9c-426e-c950-be4b4b32545b"
      },
      "execution_count": 41,
      "outputs": [
        {
          "output_type": "stream",
          "name": "stdout",
          "text": [
            "DatetimeIndex(['2017-01-02', '2017-01-03', '2017-01-04', '2017-01-05',\n",
            "               '2017-01-06'],\n",
            "              dtype='datetime64[ns]', freq='B')\n"
          ]
        }
      ]
    }
  ]
}